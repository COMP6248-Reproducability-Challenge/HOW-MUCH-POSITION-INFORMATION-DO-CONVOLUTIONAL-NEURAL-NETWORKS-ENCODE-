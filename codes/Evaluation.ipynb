{
 "cells": [
  {
   "cell_type": "code",
   "execution_count": null,
   "metadata": {},
   "outputs": [],
   "source": [
    "import os\n",
    "\n",
    "import PIL\n",
    "import torch\n",
    "import numpy as np\n",
    "import pandas as pd\n",
    "import torch.nn.functional as F\n",
    "import torchvision\n",
    "import matplotlib.pyplot as plt\n",
    "from torch import nn\n",
    "from torch import optim\n",
    "from torch.utils.data import DataLoader\n",
    "from torch.utils.data import Dataset\n",
    "from torchbearer import Trial\n",
    "from torchvision import transforms"
   ]
  },
  {
   "cell_type": "code",
   "execution_count": null,
   "metadata": {},
   "outputs": [],
   "source": [
    "# Image transform\n",
    "gt_size = 26\n",
    "path_image = 'images/image.png'\n",
    "path_gt = 'gt/gt_gau.png'\n",
    "\n",
    "transform_image = transforms.Compose([\n",
    "            transforms.Resize((224,224)),\n",
    "            transforms.ToTensor(),  # convert to tensor\n",
    "            transforms.Normalize(mean=[0.485, 0.456, 0.406],\n",
    "                                  std=[0.229, 0.224, 0.225]),\n",
    "        ])\n",
    "\n",
    "transform = transforms.Compose([\n",
    "            transforms.Resize((28,28)),\n",
    "            transforms.ToTensor(),  # convert to tensor\n",
    "        ])\n",
    "\n",
    "transform_display = transforms.Compose([\n",
    "            transforms.Resize((224,224)),\n",
    "            transforms.ToTensor(),  # convert to tensor\n",
    "        ])\n",
    "\n",
    "transform_gt = transforms.Compose([\n",
    "            transforms.Resize((gt_size,gt_size)),\n",
    "            transforms.ToTensor(),  # convert to tensor\n",
    "        ])"
   ]
  },
  {
   "cell_type": "code",
   "execution_count": null,
   "metadata": {},
   "outputs": [],
   "source": [
    "# feed-forward convolutional encoder network\n",
    "vgg = torchvision.models.vgg16(pretrained=True)\n",
    "resnet = torchvision.models.resnet152(pretrained=True)"
   ]
  },
  {
   "cell_type": "code",
   "execution_count": null,
   "metadata": {},
   "outputs": [],
   "source": [
    "# Extractor\n",
    "\n",
    "def fm_resize(feature):\n",
    "    return F.interpolate(feature.unsqueeze(0), size=[3, 28, 28], mode=\"trilinear\", align_corners=False).view(3,28,28)\n",
    "\n",
    "def extractor_vgg(image):\n",
    "    list_vgg16 = [5, 10, 17, 24, 31]\n",
    "    img = torch.tensor([])\n",
    "    for i in list_vgg16:\n",
    "        feature_extractor_model = nn.Sequential(*list(vgg.children())[0][0:i])\n",
    "        feature_extractor_model.eval()\n",
    "        feature_extractor_model = feature_extractor_model\n",
    "        feature = feature_extractor_model(image.unsqueeze(0))\n",
    "        img = torch.cat([img, fm_resize(feature)], 0)\n",
    "    return img\n",
    "\n",
    "def extractor_resnet(image):\n",
    "    list_resnet152 = [4, 5, 6, 7, 8]\n",
    "    img = torch.tensor([])\n",
    "    for i in list_resnet152:\n",
    "        feature_extractor_model = nn.Sequential(*list(resnet.children())[0:i])\n",
    "        feature_extractor_model.eval()\n",
    "        feature_extractor_model = feature_extractor_model\n",
    "        feature = feature_extractor_model(image.unsqueeze(0))\n",
    "        img = torch.cat([img, fm_resize(feature)], 0)\n",
    "    return img\n",
    "\n",
    "# Position encoding module\n",
    "class PosENet_eval(nn.Module):\n",
    "    def __init__(self, input_dim):\n",
    "        super(PosENet_eval, self).__init__()\n",
    "        self.conv = nn.Conv2d(input_dim, 1, (3, 3), stride=1, padding=0)\n",
    "            \n",
    "    def forward(self, x):\n",
    "        out = self.conv(x)\n",
    "        return out"
   ]
  },
  {
   "cell_type": "code",
   "execution_count": null,
   "metadata": {},
   "outputs": [],
   "source": [
    "model = PosENet_eval(input_dim=3)\n",
    "model_vgg = PosENet_eval(input_dim=15) # if input feature maps from 1 layer, input_dim need to modify to 3.\n",
    "model_resnet = PosENet_eval(input_dim=15) # if input feature maps from 1 layer, input_dim need to modify to 3.\n",
    "\n",
    "model.load_state_dict(torch.load('weights/model_3_0_gau.weights', map_location=torch.device('cpu')))\n",
    "model_vgg.load_state_dict(torch.load('weights/model_vgg_3_0_gau.weights', map_location=torch.device('cpu')))\n",
    "model_resnet.load_state_dict(torch.load('weights/model_resnet_3_0_gau.weights', map_location=torch.device('cpu')))\n",
    "\n",
    "model.eval()\n",
    "model_vgg.eval()\n",
    "model_resnet.eval()\n",
    "\n",
    "img_model_PosENet = transform(PIL.Image.open(path_image))*255\n",
    "img_model_vgg_resnet = transform_image(PIL.Image.open(path_image))\n",
    "\n",
    "# Prediction\n",
    "pred = model(img_model_PosENet.permute(0,2,1).unsqueeze(0))\n",
    "pred_vgg = model_vgg(extractor_vgg(img_model_vgg_resnet.permute(0,2,1)).unsqueeze(0))\n",
    "pred_resnet = model_resnet(extractor_resnet(img_model_vgg_resnet.permute(0,2,1)).unsqueeze(0))"
   ]
  },
  {
   "cell_type": "code",
   "execution_count": null,
   "metadata": {},
   "outputs": [],
   "source": [
    "# set a display transform\n",
    "img = transform_display(PIL.Image.open(path_image))\n",
    "gt_img = transform_display(PIL.Image.open(path_gt))\n",
    "\n",
    "pred_img = F.interpolate(pred, size=(224,224), mode=\"bilinear\", align_corners=False)\n",
    "pred_vgg_img = F.interpolate(pred_vgg, size=(224,224), mode=\"bilinear\", align_corners=False)\n",
    "pred_resnet_img = F.interpolate(pred_resnet, size=(224,224), mode=\"bilinear\", align_corners=False)\n",
    "\n",
    "# show the image and GT\n",
    "plt.figure(figsize=(15,3))\n",
    "plt.subplot(151);plt.imshow(img.permute(2, 1, 0), aspect='equal')\n",
    "plt.axis('off')\n",
    "plt.subplot(152);plt.imshow(gt_img[0], aspect='equal')\n",
    "plt.axis('off')\n",
    "plt.subplot(153);plt.imshow(pred_img[0,0,:,:].data, aspect='equal')\n",
    "plt.axis('off')\n",
    "plt.subplot(154);plt.imshow(pred_vgg_img[0,0,:,:].data, aspect='equal')\n",
    "plt.axis('off')\n",
    "plt.subplot(155);plt.imshow(pred_resnet_img[0,0,:,:].data, aspect='equal')\n",
    "plt.axis('off')\n",
    "plt.show()"
   ]
  },
  {
   "cell_type": "code",
   "execution_count": null,
   "metadata": {},
   "outputs": [],
   "source": [
    "# Spearman's rank correlation coefficient (SPC)\n",
    "gt = transform_gt(PIL.Image.open(path_gt)).view(gt_size,gt_size).numpy()\n",
    "data = pd.DataFrame({'PosENet':pred.view(gt.shape).detach().numpy().flatten(), \n",
    "                     'Vgg':pred_vgg.view(gt.shape).detach().numpy().flatten(), \n",
    "                     'Resnet':pred_resnet.view(gt.shape).detach().numpy().flatten(), \n",
    "                     'GT':gt.flatten() \n",
    "                    })\n",
    "\n",
    "round(data.corr('spearman'), 3)['GT'][0:3]"
   ]
  },
  {
   "cell_type": "code",
   "execution_count": null,
   "metadata": {},
   "outputs": [],
   "source": [
    "# mean absolute error (MAE)\n",
    "print('PosENet: ', round(sum(abs((pred.view(gt.shape).detach().numpy()-gt).flatten())) / (gt_size ** 2), 3))\n",
    "print('Vgg      ', round(sum(abs((pred_vgg.view(gt.shape).detach().numpy()-gt).flatten())) / (gt_size ** 2), 3))\n",
    "print('Resnet   ', round(sum(abs((pred_resnet.view(gt.shape).detach().numpy()-gt).flatten())) / (gt_size ** 2), 3))"
   ]
  },
  {
   "cell_type": "code",
   "execution_count": null,
   "metadata": {},
   "outputs": [],
   "source": [
    "gt = transform_gt(PIL.Image.open(path_gt))\n",
    "print(nn.functional.kl_div(pred, gt, reduction='mean'))\n",
    "print(nn.functional.kl_div(pred_vgg, gt, reduction='mean'))\n",
    "print(nn.functional.kl_div(pred_resnet, gt, reduction='mean'))"
   ]
  }
 ],
 "metadata": {
  "kernelspec": {
   "display_name": "Python 3.7.4 64-bit",
   "language": "python",
   "name": "python37464bit5589b16775134c1393ed0278ce6b3f72"
  },
  "language_info": {
   "codemirror_mode": {
    "name": "ipython",
    "version": 3
   },
   "file_extension": ".py",
   "mimetype": "text/x-python",
   "name": "python",
   "nbconvert_exporter": "python",
   "pygments_lexer": "ipython3",
   "version": "3.7.4"
  }
 },
 "nbformat": 4,
 "nbformat_minor": 2
}
